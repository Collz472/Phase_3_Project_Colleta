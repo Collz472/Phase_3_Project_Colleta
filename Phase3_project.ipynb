{
 "cells": [
  {
   "cell_type": "markdown",
   "metadata": {},
   "source": [
    "## **Predicting H1N1 and Seasonal Flu Vaccination Uptake**"
   ]
  },
  {
   "cell_type": "markdown",
   "metadata": {},
   "source": [
    "## Final Project Submission\n",
    "\n",
    "* Student name: Colleta Kiilu\n",
    "* Student pace:  **part time** \n",
    "* Scheduled project submission date/time: 23/12/2024\n",
    "* Instructor name: Samuel Karu\n",
    "* Blog post URL: https://github.com/Collz472/Phase_3_Project_Colleta.git"
   ]
  },
  {
   "cell_type": "markdown",
   "metadata": {},
   "source": [
    "# **Business Understanding**\n"
   ]
  },
  {
   "cell_type": "markdown",
   "metadata": {},
   "source": [
    "## **Project Background**\n",
    "\n",
    "Vaccination is a critical public health intervention for controlling and preventing the spread of infectious diseases. \n",
    "By providing immunization at an individual level and fostering herd immunity within communities, vaccines play a very important role in safeguarding global health. \n",
    "In 2009, the H1N1 influenza virus, commonly known as \"swine flu,\" caused a global pandemic, resulting in an estimated 151,000 to 575,000 deaths worldwide in its first year. \n",
    "To combat this pandemic, an H1N1 vaccine was made available in October 2009.\n",
    "\n",
    "The United States National 2009 H1N1 Flu Survey, conducted in late 2009 and early 2010, collected data on vaccination uptake for both H1N1 and seasonal flu. \n",
    "The survey explored respondents’ vaccination status alongside information about their socioeconomic and demographic backgrounds, health behaviors, and opinions on vaccine efficacy and illness risk. \n",
    "This project therefore seeks to guide furture public health strategies by providing valuable insights into the factors influencing the vaccination patterns through a thorough analysis of the dataset provided."
   ]
  },
  {
   "cell_type": "markdown",
   "metadata": {},
   "source": [
    "## **Problem Statement**\n",
    "\n",
    "Understanding the factors that influence vaccination decisions is essential for designing effective public health campaigns. \n",
    "Despite the availability of vaccines for the H1N1 and seasonal flu, uptake rates varied significantly among different population groups. \n",
    "The challenge lies in identifying and analyzing the individual and social factors that determine vaccine adoption, which is critical for improving vaccination rates and achieving herd immunity during pandemics."
   ]
  },
  {
   "cell_type": "markdown",
   "metadata": {},
   "source": [
    "## **General Objective**\n",
    "\n",
    "To investigate the factors influencing individuals’ decisions to receive the H1N1 and seasonal flu vaccines using data on their backgrounds, health behaviors, and opinions, with the goal of informing public health strategies to enhance vaccine uptake.\n",
    "\n",
    "## **Specific Objectives**\n",
    "\n",
    "1. To analyze the relationship between demographic factors, opinions on vaccine effectiveness, and health behaviors in influencing vaccination status.\n",
    "\n",
    "2. To identify key socioeconomic and behavioral barriers to accessing vaccines.\n",
    "\n",
    "3. To develop predictive models for determining the likelihood of individuals receiving H1N1 and seasonal flu vaccines.\n",
    "\n",
    "## **Research Questions**\n",
    "\n",
    "1. What are the key demographic, behavioral, and opinion-based factors influencing vaccination decisions?\n",
    "\n",
    "2. What socioeconomic barriers hinder vaccine accessibility and uptake?\n",
    "\n",
    "3. How accurately can predictive models identify individuals likely to receive or forgo vaccination?"
   ]
  },
  {
   "cell_type": "markdown",
   "metadata": {},
   "source": [
    "## Data Understanding"
   ]
  },
  {
   "cell_type": "code",
   "execution_count": 1,
   "metadata": {},
   "outputs": [
    {
     "name": "stderr",
     "output_type": "stream",
     "text": [
      "<frozen importlib._bootstrap>:219: RuntimeWarning: numpy.ufunc size changed, may indicate binary incompatibility. Expected 192 from C header, got 216 from PyObject\n"
     ]
    }
   ],
   "source": [
    "# import Libraries\n",
    "\n",
    "import pandas as pd\n",
    "import numpy as np\n",
    "import seaborn as sns\n",
    "import matplotlib.pyplot as plt\n",
    "\n",
    "\n",
    "\n",
    "from sklearn.linear_model import LinearRegression\n",
    "from sklearn.preprocessing import OneHotEncoder\n",
    "from sklearn.metrics import mean_squared_error\n",
    "from sklearn.ensemble import RandomForestRegressor\n",
    "from sklearn.model_selection import train_test_split\n",
    "from sklearn.feature_selection import SelectKBest\n",
    "from sklearn.feature_selection import chi2\n",
    "from sklearn.metrics import accuracy_score, recall_score, precision_score, f1_score\n",
    "from sklearn.model_selection import GridSearchCV\n",
    "from sklearn.metrics import roc_curve, roc_auc_score\n",
    "from sklearn.dummy import DummyClassifier\n",
    "from sklearn.ensemble import RandomForestClassifier\n",
    "from xgboost import XGBClassifier\n",
    "\n",
    "\n",
    "\n",
    "\n",
    "import warnings\n",
    "warnings.filterwarnings('ignore')"
   ]
  },
  {
   "cell_type": "code",
   "execution_count": 2,
   "metadata": {},
   "outputs": [
    {
     "name": "stdout",
     "output_type": "stream",
     "text": [
      "\n",
      "Target Labels:\n",
      "   respondent_id  h1n1_vaccine  seasonal_vaccine\n",
      "0              0             0                 0\n",
      "1              1             0                 1\n",
      "2              2             0                 0\n",
      "3              3             0                 1\n",
      "4              4             0                 0\n",
      "Training Data:\n",
      "   respondent_id  h1n1_concern  h1n1_knowledge  behavioral_antiviral_meds  \\\n",
      "0              0           1.0             0.0                        0.0   \n",
      "1              1           3.0             2.0                        0.0   \n",
      "2              2           1.0             1.0                        0.0   \n",
      "3              3           1.0             1.0                        0.0   \n",
      "4              4           2.0             1.0                        0.0   \n",
      "\n",
      "   behavioral_avoidance  behavioral_face_mask  behavioral_wash_hands  \\\n",
      "0                   0.0                   0.0                    0.0   \n",
      "1                   1.0                   0.0                    1.0   \n",
      "2                   1.0                   0.0                    0.0   \n",
      "3                   1.0                   0.0                    1.0   \n",
      "4                   1.0                   0.0                    1.0   \n",
      "\n",
      "   behavioral_large_gatherings  behavioral_outside_home  \\\n",
      "0                          0.0                      1.0   \n",
      "1                          0.0                      1.0   \n",
      "2                          0.0                      0.0   \n",
      "3                          1.0                      0.0   \n",
      "4                          1.0                      0.0   \n",
      "\n",
      "   behavioral_touch_face  ...             income_poverty  marital_status  \\\n",
      "0                    1.0  ...              Below Poverty     Not Married   \n",
      "1                    1.0  ...              Below Poverty     Not Married   \n",
      "2                    0.0  ...  <= $75,000, Above Poverty     Not Married   \n",
      "3                    0.0  ...              Below Poverty     Not Married   \n",
      "4                    1.0  ...  <= $75,000, Above Poverty         Married   \n",
      "\n",
      "   rent_or_own   employment_status  hhs_geo_region                census_msa  \\\n",
      "0          Own  Not in Labor Force        oxchjgsf                   Non-MSA   \n",
      "1         Rent            Employed        bhuqouqj  MSA, Not Principle  City   \n",
      "2          Own            Employed        qufhixun  MSA, Not Principle  City   \n",
      "3         Rent  Not in Labor Force        lrircsnp       MSA, Principle City   \n",
      "4          Own            Employed        qufhixun  MSA, Not Principle  City   \n",
      "\n",
      "   household_adults  household_children  employment_industry  \\\n",
      "0               0.0                 0.0                  NaN   \n",
      "1               0.0                 0.0             pxcmvdjn   \n",
      "2               2.0                 0.0             rucpziij   \n",
      "3               0.0                 0.0                  NaN   \n",
      "4               1.0                 0.0             wxleyezf   \n",
      "\n",
      "   employment_occupation  \n",
      "0                    NaN  \n",
      "1               xgwztkwe  \n",
      "2               xtkaffoo  \n",
      "3                    NaN  \n",
      "4               emcorrxb  \n",
      "\n",
      "[5 rows x 36 columns]\n",
      "\n",
      "Test Data:\n",
      "   respondent_id  h1n1_concern  h1n1_knowledge  behavioral_antiviral_meds  \\\n",
      "0          26707           2.0             2.0                        0.0   \n",
      "1          26708           1.0             1.0                        0.0   \n",
      "2          26709           2.0             2.0                        0.0   \n",
      "3          26710           1.0             1.0                        0.0   \n",
      "4          26711           3.0             1.0                        1.0   \n",
      "\n",
      "   behavioral_avoidance  behavioral_face_mask  behavioral_wash_hands  \\\n",
      "0                   1.0                   0.0                    1.0   \n",
      "1                   0.0                   0.0                    0.0   \n",
      "2                   0.0                   1.0                    1.0   \n",
      "3                   0.0                   0.0                    0.0   \n",
      "4                   1.0                   0.0                    1.0   \n",
      "\n",
      "   behavioral_large_gatherings  behavioral_outside_home  \\\n",
      "0                          1.0                      0.0   \n",
      "1                          0.0                      0.0   \n",
      "2                          1.0                      1.0   \n",
      "3                          0.0                      0.0   \n",
      "4                          1.0                      1.0   \n",
      "\n",
      "   behavioral_touch_face  ...             income_poverty  marital_status  \\\n",
      "0                    1.0  ...                  > $75,000     Not Married   \n",
      "1                    0.0  ...              Below Poverty     Not Married   \n",
      "2                    1.0  ...                  > $75,000         Married   \n",
      "3                    0.0  ...  <= $75,000, Above Poverty         Married   \n",
      "4                    1.0  ...  <= $75,000, Above Poverty     Not Married   \n",
      "\n",
      "   rent_or_own   employment_status  hhs_geo_region                census_msa  \\\n",
      "0         Rent            Employed        mlyzmhmf  MSA, Not Principle  City   \n",
      "1         Rent            Employed        bhuqouqj                   Non-MSA   \n",
      "2          Own            Employed        lrircsnp                   Non-MSA   \n",
      "3          Own  Not in Labor Force        lrircsnp  MSA, Not Principle  City   \n",
      "4          Own            Employed        lzgpxyit                   Non-MSA   \n",
      "\n",
      "   household_adults  household_children  employment_industry  \\\n",
      "0               1.0                 0.0             atmlpfrs   \n",
      "1               3.0                 0.0             atmlpfrs   \n",
      "2               1.0                 0.0             nduyfdeo   \n",
      "3               1.0                 0.0                  NaN   \n",
      "4               0.0                 1.0             fcxhlnwr   \n",
      "\n",
      "   employment_occupation  \n",
      "0               hfxkjkmi  \n",
      "1               xqwwgdyp  \n",
      "2               pvmttkik  \n",
      "3                    NaN  \n",
      "4               mxkfnird  \n",
      "\n",
      "[5 rows x 36 columns]\n"
     ]
    }
   ],
   "source": [
    "#import datasets\n",
    "\n",
    "target = pd.read_csv(\"training_set_labels.csv\")\n",
    "train = pd.read_csv(\"training_set_features.csv\")\n",
    "test = pd.read_csv(\"test_set_features.csv\")\n",
    "\n",
    "\n",
    "\n",
    "# Display the first few rows of each DataFrame to ensure data loading was successful\n",
    "\n",
    "print(\"\\nTarget Labels:\")\n",
    "print(target.head())\n",
    "\n",
    "print(\"Training Data:\")\n",
    "print(train.head())\n",
    "\n",
    "print(\"\\nTest Data:\")\n",
    "print(test.head())"
   ]
  },
  {
   "cell_type": "code",
   "execution_count": null,
   "metadata": {},
   "outputs": [],
   "source": []
  }
 ],
 "metadata": {
  "colab": {
   "provenance": []
  },
  "kernelspec": {
   "display_name": "learn-env",
   "language": "python",
   "name": "python3"
  },
  "language_info": {
   "codemirror_mode": {
    "name": "ipython",
    "version": 3
   },
   "file_extension": ".py",
   "mimetype": "text/x-python",
   "name": "python",
   "nbconvert_exporter": "python",
   "pygments_lexer": "ipython3",
   "version": "3.8.5"
  }
 },
 "nbformat": 4,
 "nbformat_minor": 0
}
