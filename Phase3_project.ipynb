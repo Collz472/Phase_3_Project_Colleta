{
 "cells": [
  {
   "cell_type": "markdown",
   "metadata": {},
   "source": [
    "## **Predicting Seasonal Flu Vaccination Uptake**"
   ]
  },
  {
   "cell_type": "markdown",
   "metadata": {},
   "source": [
    "## Final Project Submission\n",
    "\n",
    "* Student name: Colleta Kiilu\n",
    "* Student pace:  **part time** \n",
    "* Scheduled project submission date/time: 23/12/2024\n",
    "* Instructor name: Samuel Karu\n",
    "* Blog post URL: https://github.com/Collz472/Phase_3_Project_Colleta.git"
   ]
  },
  {
   "cell_type": "markdown",
   "metadata": {},
   "source": [
    "# **Business Understanding**\n"
   ]
  },
  {
   "cell_type": "markdown",
   "metadata": {},
   "source": [
    "## **Project Background**\n",
    "\n",
    "Vaccination is a critical public health intervention for controlling and preventing the spread of infectious diseases. \n",
    "By providing immunization at an individual level and fostering herd immunity within communities, vaccines play a very important role in safeguarding global health. \n",
    "In 2009, the H1N1 influenza virus, commonly known as \"swine flu,\" caused a global pandemic, resulting in an estimated 151,000 to 575,000 deaths worldwide in its first year. \n",
    "To combat this pandemic, an H1N1 vaccine was made available in October 2009.\n",
    "\n",
    "The United States National 2009 H1N1 Flu Survey, conducted in late 2009 and early 2010, collected data on vaccination uptake for both H1N1 and seasonal flu. \n",
    "The survey explored respondents’ vaccination status alongside information about their socioeconomic and demographic backgrounds, health behaviors, and opinions on vaccine efficacy and illness risk. \n",
    "This project therefore seeks to guide furture public health strategies by providing valuable insights into the factors influencing the vaccination patterns through a thorough analysis of the dataset provided."
   ]
  },
  {
   "cell_type": "markdown",
   "metadata": {},
   "source": [
    "## **Problem Statement**\n",
    "\n",
    "Understanding the factors that influence vaccination decisions is essential for designing effective public health campaigns. \n",
    "Despite the availability of vaccines for the seasonal flu, uptake rates varied significantly among different population groups. \n",
    "The challenge lies in identifying and analyzing the individual and social factors that determine vaccine adoption, which is critical for improving vaccination rates and achieving herd immunity during pandemics."
   ]
  },
  {
   "cell_type": "markdown",
   "metadata": {},
   "source": [
    "## **General Objective**\n",
    "\n",
    "To investigate the factors influencing individuals’ decisions to receive the seasonal flu vaccine using data on their backgrounds, health behaviors, and opinions, with the goal of informing public health strategies to enhance vaccine uptake.\n",
    "\n",
    "## **Specific Objectives**\n",
    "\n",
    "1. To analyze the relationship between demographic factors, opinions on vaccine effectiveness, and health behaviors in influencing vaccination status.\n",
    "\n",
    "2. To identify key socioeconomic and behavioral barriers to accessing vaccines.\n",
    "\n",
    "3. To develop predictive models for determining the likelihood of individuals receiving H1N1 and seasonal flu vaccines.\n",
    "\n",
    "## **Research Questions**\n",
    "\n",
    "1. What are the key demographic, behavioral, and opinion-based factors influencing vaccination decisions?\n",
    "\n",
    "2. What socioeconomic barriers hinder vaccine accessibility and uptake?\n",
    "\n",
    "3. How accurately can predictive models identify individuals likely to receive or forgo vaccination?"
   ]
  },
  {
   "cell_type": "markdown",
   "metadata": {},
   "source": [
    "# **Data Understanding**\n",
    "\n",
    "\n",
    "\n",
    "The National 2009 H1N1 Flu Survey (NHFS) was conducted between October 2009 and June 2010 to assess the uptake of H1N1 and seasonal flu vaccines in the United States. The survey was designed as a phone-based data collection effort, targeting a representative sample of the U.S. population. Key data collected included:\n",
    "\n",
    "1. **Vaccination Status**: Whether respondents received the H1N1 vaccine, the seasonal flu vaccine, both, or neither.\n",
    "\n",
    "2. **Demographic Information**: Age, gender, race/ethnicity, income level, and education.\n",
    "\n",
    "3. **Health Behaviors**: Preventative practices such as handwashing and mask usage.\n",
    "\n",
    "4. **Opinions and Perceptions**: Views on vaccine efficacy, risks of illness, and general attitudes toward vaccination.\n",
    "\n",
    "5. **Socioeconomic Context**: Factors that might influence access to healthcare services, such as insurance status and geographic location.\n",
    "\n",
    "The data is composed of approximately 26,000 instances of individual data and vaccine decision information."
   ]
  },
  {
   "cell_type": "markdown",
   "metadata": {},
   "source": [
    "### **Data Source** \n",
    "The data used for this project comes from the National 2009 H1N1 Flu Survey (NHFS) and was provided courtesy of the United States National Center for Health Statistics. \n",
    "\n",
    "[U.S. Department of Health and Human Services (DHHS). National Center for Health Statistics. The National 2009 H1N1 Flu Survey. Hyattsville, MD: Centers for Disease Control and Prevention, 2012.](https://www.drivendata.org/competitions/66/flu-shot-learning/data/)\n",
    "\n",
    "The data labels and features are as described in ths [link.](https://www.drivendata.org/competitions/66/flu-shot-learning/page/211/#labels)\n"
   ]
  },
  {
   "cell_type": "code",
   "execution_count": 4,
   "metadata": {},
   "outputs": [],
   "source": [
    "# import Libraries\n",
    "\n",
    "import pandas as pd\n",
    "import numpy as np\n",
    "import seaborn as sns\n",
    "import matplotlib.pyplot as plt\n",
    "\n",
    "\n",
    "\n",
    "from sklearn.linear_model import LinearRegression\n",
    "from sklearn.preprocessing import OneHotEncoder\n",
    "from sklearn.metrics import mean_squared_error\n",
    "from sklearn.ensemble import RandomForestRegressor\n",
    "from sklearn.model_selection import train_test_split\n",
    "from sklearn.feature_selection import SelectKBest\n",
    "from sklearn.feature_selection import chi2\n",
    "from sklearn.metrics import accuracy_score, recall_score, precision_score, f1_score\n",
    "from sklearn.model_selection import GridSearchCV\n",
    "from sklearn.metrics import roc_curve, roc_auc_score\n",
    "from sklearn.dummy import DummyClassifier\n",
    "from sklearn.ensemble import RandomForestClassifier\n",
    "from xgboost import XGBClassifier\n",
    "\n",
    "\n",
    "\n",
    "import warnings\n",
    "warnings.filterwarnings('ignore')"
   ]
  },
  {
   "cell_type": "markdown",
   "metadata": {},
   "source": [
    "## **Import the data sets**"
   ]
  },
  {
   "cell_type": "code",
   "execution_count": 5,
   "metadata": {},
   "outputs": [
    {
     "name": "stdout",
     "output_type": "stream",
     "text": [
      "\n",
      "Target Labels:\n",
      "   respondent_id  h1n1_vaccine  seasonal_vaccine\n",
      "0              0             0                 0\n",
      "1              1             0                 1\n",
      "2              2             0                 0\n",
      "3              3             0                 1\n",
      "4              4             0                 0\n",
      "Training Data:\n",
      "   respondent_id  h1n1_concern  h1n1_knowledge  behavioral_antiviral_meds  \\\n",
      "0              0           1.0             0.0                        0.0   \n",
      "1              1           3.0             2.0                        0.0   \n",
      "2              2           1.0             1.0                        0.0   \n",
      "3              3           1.0             1.0                        0.0   \n",
      "4              4           2.0             1.0                        0.0   \n",
      "\n",
      "   behavioral_avoidance  behavioral_face_mask  behavioral_wash_hands  \\\n",
      "0                   0.0                   0.0                    0.0   \n",
      "1                   1.0                   0.0                    1.0   \n",
      "2                   1.0                   0.0                    0.0   \n",
      "3                   1.0                   0.0                    1.0   \n",
      "4                   1.0                   0.0                    1.0   \n",
      "\n",
      "   behavioral_large_gatherings  behavioral_outside_home  \\\n",
      "0                          0.0                      1.0   \n",
      "1                          0.0                      1.0   \n",
      "2                          0.0                      0.0   \n",
      "3                          1.0                      0.0   \n",
      "4                          1.0                      0.0   \n",
      "\n",
      "   behavioral_touch_face  ...             income_poverty  marital_status  \\\n",
      "0                    1.0  ...              Below Poverty     Not Married   \n",
      "1                    1.0  ...              Below Poverty     Not Married   \n",
      "2                    0.0  ...  <= $75,000, Above Poverty     Not Married   \n",
      "3                    0.0  ...              Below Poverty     Not Married   \n",
      "4                    1.0  ...  <= $75,000, Above Poverty         Married   \n",
      "\n",
      "   rent_or_own   employment_status  hhs_geo_region                census_msa  \\\n",
      "0          Own  Not in Labor Force        oxchjgsf                   Non-MSA   \n",
      "1         Rent            Employed        bhuqouqj  MSA, Not Principle  City   \n",
      "2          Own            Employed        qufhixun  MSA, Not Principle  City   \n",
      "3         Rent  Not in Labor Force        lrircsnp       MSA, Principle City   \n",
      "4          Own            Employed        qufhixun  MSA, Not Principle  City   \n",
      "\n",
      "   household_adults  household_children  employment_industry  \\\n",
      "0               0.0                 0.0                  NaN   \n",
      "1               0.0                 0.0             pxcmvdjn   \n",
      "2               2.0                 0.0             rucpziij   \n",
      "3               0.0                 0.0                  NaN   \n",
      "4               1.0                 0.0             wxleyezf   \n",
      "\n",
      "   employment_occupation  \n",
      "0                    NaN  \n",
      "1               xgwztkwe  \n",
      "2               xtkaffoo  \n",
      "3                    NaN  \n",
      "4               emcorrxb  \n",
      "\n",
      "[5 rows x 36 columns]\n",
      "\n",
      "Test Data:\n",
      "   respondent_id  h1n1_concern  h1n1_knowledge  behavioral_antiviral_meds  \\\n",
      "0          26707           2.0             2.0                        0.0   \n",
      "1          26708           1.0             1.0                        0.0   \n",
      "2          26709           2.0             2.0                        0.0   \n",
      "3          26710           1.0             1.0                        0.0   \n",
      "4          26711           3.0             1.0                        1.0   \n",
      "\n",
      "   behavioral_avoidance  behavioral_face_mask  behavioral_wash_hands  \\\n",
      "0                   1.0                   0.0                    1.0   \n",
      "1                   0.0                   0.0                    0.0   \n",
      "2                   0.0                   1.0                    1.0   \n",
      "3                   0.0                   0.0                    0.0   \n",
      "4                   1.0                   0.0                    1.0   \n",
      "\n",
      "   behavioral_large_gatherings  behavioral_outside_home  \\\n",
      "0                          1.0                      0.0   \n",
      "1                          0.0                      0.0   \n",
      "2                          1.0                      1.0   \n",
      "3                          0.0                      0.0   \n",
      "4                          1.0                      1.0   \n",
      "\n",
      "   behavioral_touch_face  ...             income_poverty  marital_status  \\\n",
      "0                    1.0  ...                  > $75,000     Not Married   \n",
      "1                    0.0  ...              Below Poverty     Not Married   \n",
      "2                    1.0  ...                  > $75,000         Married   \n",
      "3                    0.0  ...  <= $75,000, Above Poverty         Married   \n",
      "4                    1.0  ...  <= $75,000, Above Poverty     Not Married   \n",
      "\n",
      "   rent_or_own   employment_status  hhs_geo_region                census_msa  \\\n",
      "0         Rent            Employed        mlyzmhmf  MSA, Not Principle  City   \n",
      "1         Rent            Employed        bhuqouqj                   Non-MSA   \n",
      "2          Own            Employed        lrircsnp                   Non-MSA   \n",
      "3          Own  Not in Labor Force        lrircsnp  MSA, Not Principle  City   \n",
      "4          Own            Employed        lzgpxyit                   Non-MSA   \n",
      "\n",
      "   household_adults  household_children  employment_industry  \\\n",
      "0               1.0                 0.0             atmlpfrs   \n",
      "1               3.0                 0.0             atmlpfrs   \n",
      "2               1.0                 0.0             nduyfdeo   \n",
      "3               1.0                 0.0                  NaN   \n",
      "4               0.0                 1.0             fcxhlnwr   \n",
      "\n",
      "   employment_occupation  \n",
      "0               hfxkjkmi  \n",
      "1               xqwwgdyp  \n",
      "2               pvmttkik  \n",
      "3                    NaN  \n",
      "4               mxkfnird  \n",
      "\n",
      "[5 rows x 36 columns]\n"
     ]
    }
   ],
   "source": [
    "#import datasets\n",
    "\n",
    "target = pd.read_csv(\"training_set_labels.csv\")\n",
    "train = pd.read_csv(\"training_set_features.csv\")\n",
    "test = pd.read_csv(\"test_set_features.csv\")\n",
    "\n",
    "\n",
    "\n",
    "# Display the first few rows of each DataFrame to ensure data loading was successful\n",
    "\n",
    "print(\"\\nTarget Labels:\")\n",
    "print(target.head())\n",
    "\n",
    "print(\"Training Data:\")\n",
    "print(train.head())\n",
    "\n",
    "print(\"\\nTest Data:\")\n",
    "print(test.head())"
   ]
  },
  {
   "cell_type": "markdown",
   "metadata": {},
   "source": [
    "## *Data Exploration and data Cleaning**"
   ]
  },
  {
   "cell_type": "code",
   "execution_count": 6,
   "metadata": {},
   "outputs": [
    {
     "name": "stdout",
     "output_type": "stream",
     "text": [
      "Target Shape: (26707, 3)\n",
      "Train Shape: (26707, 36)\n",
      "Test Shape: (26708, 36)\n"
     ]
    }
   ],
   "source": [
    " #Examine Data Shape and Size\n",
    "\n",
    "print(\"Target Shape:\", target.shape)\n",
    "print(\"Train Shape:\", train.shape)\n",
    "print(\"Test Shape:\", test.shape)\n"
   ]
  },
  {
   "cell_type": "markdown",
   "metadata": {},
   "source": [
    "**The target  dataset** contains 26,707 rows and 3 columns\n",
    "\n",
    "**The train feature** dataset contains 26,707 rows and 36 columns.\n",
    "\n",
    "**The test dataset** contains 26,708 rows and 36 columns"
   ]
  },
  {
   "cell_type": "code",
   "execution_count": 7,
   "metadata": {},
   "outputs": [
    {
     "name": "stdout",
     "output_type": "stream",
     "text": [
      "\n",
      "Target Labels Columns:\n",
      "Index(['respondent_id', 'h1n1_vaccine', 'seasonal_vaccine'], dtype='object')\n"
     ]
    }
   ],
   "source": [
    "# Print column names and data types of the \"target\" DataFrame\n",
    "print(\"\\nTarget Labels Columns:\")\n",
    "print(target.columns)"
   ]
  },
  {
   "cell_type": "code",
   "execution_count": 8,
   "metadata": {},
   "outputs": [
    {
     "name": "stdout",
     "output_type": "stream",
     "text": [
      "\n",
      "Train Labels Columns:\n",
      "Index(['respondent_id', 'h1n1_concern', 'h1n1_knowledge',\n",
      "       'behavioral_antiviral_meds', 'behavioral_avoidance',\n",
      "       'behavioral_face_mask', 'behavioral_wash_hands',\n",
      "       'behavioral_large_gatherings', 'behavioral_outside_home',\n",
      "       'behavioral_touch_face', 'doctor_recc_h1n1', 'doctor_recc_seasonal',\n",
      "       'chronic_med_condition', 'child_under_6_months', 'health_worker',\n",
      "       'health_insurance', 'opinion_h1n1_vacc_effective', 'opinion_h1n1_risk',\n",
      "       'opinion_h1n1_sick_from_vacc', 'opinion_seas_vacc_effective',\n",
      "       'opinion_seas_risk', 'opinion_seas_sick_from_vacc', 'age_group',\n",
      "       'education', 'race', 'sex', 'income_poverty', 'marital_status',\n",
      "       'rent_or_own', 'employment_status', 'hhs_geo_region', 'census_msa',\n",
      "       'household_adults', 'household_children', 'employment_industry',\n",
      "       'employment_occupation'],\n",
      "      dtype='object')\n"
     ]
    }
   ],
   "source": [
    "# Print column names and data types of the \"train\" DataFrame\n",
    "print(\"\\nTrain Labels Columns:\")\n",
    "print(train.columns)"
   ]
  },
  {
   "cell_type": "code",
   "execution_count": 9,
   "metadata": {},
   "outputs": [
    {
     "name": "stdout",
     "output_type": "stream",
     "text": [
      "\n",
      "Test Labels Columns:\n",
      "Index(['respondent_id', 'h1n1_concern', 'h1n1_knowledge',\n",
      "       'behavioral_antiviral_meds', 'behavioral_avoidance',\n",
      "       'behavioral_face_mask', 'behavioral_wash_hands',\n",
      "       'behavioral_large_gatherings', 'behavioral_outside_home',\n",
      "       'behavioral_touch_face', 'doctor_recc_h1n1', 'doctor_recc_seasonal',\n",
      "       'chronic_med_condition', 'child_under_6_months', 'health_worker',\n",
      "       'health_insurance', 'opinion_h1n1_vacc_effective', 'opinion_h1n1_risk',\n",
      "       'opinion_h1n1_sick_from_vacc', 'opinion_seas_vacc_effective',\n",
      "       'opinion_seas_risk', 'opinion_seas_sick_from_vacc', 'age_group',\n",
      "       'education', 'race', 'sex', 'income_poverty', 'marital_status',\n",
      "       'rent_or_own', 'employment_status', 'hhs_geo_region', 'census_msa',\n",
      "       'household_adults', 'household_children', 'employment_industry',\n",
      "       'employment_occupation'],\n",
      "      dtype='object')\n"
     ]
    }
   ],
   "source": [
    "# Print column names and data types of the \"test\" DataFrame\n",
    "print(\"\\nTest Labels Columns:\")\n",
    "print(test.columns)"
   ]
  },
  {
   "cell_type": "markdown",
   "metadata": {},
   "source": [
    "### **Remove Unnecessary Columns**\n",
    "\n",
    "**Drop information for HINI**\n",
    "\n",
    "There are two potential targets in these datasets: whether the survey respondent received the seasonal flu vaccine, or whether the respondent received the H1N1 flu vaccine. For my minimum viable project, i will choose just one of these potential targets therefore, i will drop all information related to H1N1 flu and maintain the seasonal flu vaccination. The columns are not directly relevant to the current analysis"
   ]
  },
  {
   "cell_type": "code",
   "execution_count": 10,
   "metadata": {},
   "outputs": [],
   "source": [
    "# Drop columns related to H1N1 flu from the \"target\" DataFrame\n",
    "target.drop(columns=[\"h1n1_vaccine\"], axis=1, inplace=True)\n",
    "\n",
    "# Drop columns related to H1N1 flu from the \"train\" DataFrame\n",
    "train.drop(columns=[\"h1n1_concern\",\"h1n1_knowledge\",\"doctor_recc_h1n1\",\"opinion_h1n1_vacc_effective\",\"opinion_h1n1_risk\",\"opinion_h1n1_sick_from_vacc\"], axis=1, inplace=True)\n",
    "\n",
    "# Drop columns related to H1N1 flu from the \"test\" DataFrame\n",
    "test.drop(columns=[\"h1n1_concern\",\"h1n1_knowledge\",\"doctor_recc_h1n1\",\"opinion_h1n1_vacc_effective\",\"opinion_h1n1_risk\",\"opinion_h1n1_sick_from_vacc\"], axis=1, inplace=True)\n"
   ]
  },
  {
   "cell_type": "code",
   "execution_count": 11,
   "metadata": {},
   "outputs": [
    {
     "name": "stdout",
     "output_type": "stream",
     "text": [
      "target Shape: (26707, 2)\n",
      "train Shape: (26707, 30)\n",
      "set Shape: (26708, 30)\n"
     ]
    }
   ],
   "source": [
    "# Cconfirm if the columns dropped\n",
    "\n",
    "print(\"target Shape:\", target.shape)\n",
    "print(\"train Shape:\", train.shape)\n",
    "print(\"set Shape:\", test.shape)\n"
   ]
  },
  {
   "cell_type": "markdown",
   "metadata": {},
   "source": [
    "**The target  dataset** now contains 26,707 rows and 2 columns. 1 columns was successfuly dropped\n",
    "\n",
    "**The train feature** dataset now contains 26,707 rows and 30columns. 6 columns were successfuly dropped\n",
    "\n",
    "**The test dataset** now contains 26,708 rows and 30 columns. 6 columns were successfuly dropped"
   ]
  },
  {
   "cell_type": "markdown",
   "metadata": {},
   "source": [
    "## **Checking for Missing values**"
   ]
  },
  {
   "cell_type": "code",
   "execution_count": 12,
   "metadata": {},
   "outputs": [
    {
     "name": "stdout",
     "output_type": "stream",
     "text": [
      "Missing values:\n",
      "employment_occupation          50.436215\n",
      "employment_industry            49.912008\n",
      "health_insurance               45.957989\n",
      "income_poverty                 16.561201\n",
      "doctor_recc_seasonal            8.087767\n",
      "rent_or_own                     7.645936\n",
      "employment_status               5.477965\n",
      "marital_status                  5.272026\n",
      "education                       5.268282\n",
      "chronic_med_condition           3.635751\n",
      "child_under_6_months            3.070356\n",
      "health_worker                   3.010447\n",
      "opinion_seas_sick_from_vacc     2.010709\n",
      "opinion_seas_risk               1.924589\n",
      "opinion_seas_vacc_effective     1.729884\n",
      "household_adults                0.932340\n",
      "household_children              0.932340\n",
      "behavioral_avoidance            0.778822\n",
      "behavioral_touch_face           0.479275\n",
      "behavioral_large_gatherings     0.325757\n",
      "behavioral_outside_home         0.307036\n",
      "behavioral_antiviral_meds       0.265848\n",
      "behavioral_wash_hands           0.157262\n",
      "behavioral_face_mask            0.071142\n",
      "age_group                       0.000000\n",
      "race                            0.000000\n",
      "sex                             0.000000\n",
      "hhs_geo_region                  0.000000\n",
      "census_msa                      0.000000\n",
      "respondent_id                   0.000000\n",
      "dtype: float64\n"
     ]
    }
   ],
   "source": [
    "# check the percentage of missing values per column\n",
    "\n",
    "missing=(train.isnull().sum()/len(train))*100\n",
    "\n",
    "# show columns with the highest missing percentages\n",
    "missing = missing.sort_values(ascending=False)\n",
    "\n",
    "print(\"Missing values:\")\n",
    "print(missing)"
   ]
  },
  {
   "cell_type": "code",
   "execution_count": null,
   "metadata": {},
   "outputs": [
    {
     "name": "stdout",
     "output_type": "stream",
     "text": [
      "employment_occupation          13470\n",
      "employment_industry            13330\n",
      "health_insurance               12274\n",
      "income_poverty                  4423\n",
      "doctor_recc_seasonal            2160\n",
      "rent_or_own                     2042\n",
      "employment_status               1463\n",
      "marital_status                  1408\n",
      "education                       1407\n",
      "chronic_med_condition            971\n",
      "child_under_6_months             820\n",
      "health_worker                    804\n",
      "opinion_seas_sick_from_vacc      537\n",
      "opinion_seas_risk                514\n",
      "opinion_seas_vacc_effective      462\n",
      "household_adults                 249\n",
      "household_children               249\n",
      "behavioral_avoidance             208\n",
      "behavioral_touch_face            128\n",
      "behavioral_large_gatherings       87\n",
      "behavioral_outside_home           82\n",
      "behavioral_antiviral_meds         71\n",
      "behavioral_wash_hands             42\n",
      "behavioral_face_mask              19\n",
      "age_group                          0\n",
      "race                               0\n",
      "sex                                0\n",
      "hhs_geo_region                     0\n",
      "census_msa                         0\n",
      "respondent_id                      0\n",
      "dtype: int64\n"
     ]
    }
   ],
   "source": [
    "# Count missing values and sort in ascending order\n",
    "missing_values_sorted = train.isnull().sum().sort_values(ascending=False)\n",
    "\n",
    "print(missing_values_sorted)"
   ]
  },
  {
   "cell_type": "markdown",
   "metadata": {},
   "source": [
    "**Observations**\n",
    "\n",
    "1. From the above information, the employment_occupation column, employment_industry column and the health_insurance column have the highest number of missing values at 50.4%, 49.9% and 45.96% respectively\n",
    "\n",
    "2. From the data set, there is a strong relationship between the employement_status cloumn and the employment_occupation and employement_industry columns which have the highest null values. The exected responses in the employement_status column was either; 1) employed, 2) unemployed or 3) not in labour force. It is therfore expected that those who responded 'unemplyed' or 'not in labour force', would leave the the employment_occupation and employement_industry columns blank.\n",
    "\n",
    "3. Therefore, 10,231 of the null values for the employment_occupation and employemnt_indstry will be viewed as \"not applicable\" as those are the the respondents who answered \"Not in Labor Force\" for employment_status. The information will be viewed as not applicable as opposed to respondendt not choosing to respond\n",
    "\n",
    "4. Similarly, an additional 1,453 of the null values in the employment_occupation and employmet_industry representing all unemployed individuals will be viewed as not applicable. \n"
   ]
  },
  {
   "cell_type": "markdown",
   "metadata": {},
   "source": [
    "## **Handling Missing values** \n",
    "\n",
    "**1. Employment Columns** (employment_industry and employment_occupation columns)\n",
    "- For respondents marked as \"Unemployed\" in the `employment_status` column, the `employment_industry` will be updated to \"not employed\".\n",
    "- For respondents marked as \"Unemployed\" in the `employment_status` column, the `employment_occupation` will be updated to \"not employed\".\n",
    "- For respondents marked as \"Not in Labor Force\" in the `employment_status` column, the `employment_industry` will be updated to \"not employed\".\n",
    "- For respondents marked as \"Not in Labor Force\" in the `employment_status` column, the `employment_occupation` is also updated to \"not employed\".  \n",
    "\n",
    "By labeling these cases as `not employed`, the missing values are now replaced with meaningful information, which can be utilized for further analysis without introducing any biased assumptions."
   ]
  },
  {
   "cell_type": "code",
   "execution_count": 20,
   "metadata": {},
   "outputs": [],
   "source": [
    "## if a person is unemployed, change their \"employment_industry\" to \"not_employed\"\n",
    "train.loc[train[\"employment_status\"] == \"Unemployed\", \"employment_industry\"] = \"not employed\"\n",
    "\n",
    "## if a person is unemployed, change their \"employment_occupation\" to \"not_employed\"\n",
    "train.loc[train[\"employment_status\"] == \"Unemployed\", \"employment_occupation\"] = \"not employed\"\n",
    "\n",
    "## if a person is not in the labor force, change their \"employment_industry\" to \"not_employed\"\n",
    "train.loc[train[\"employment_status\"] == \"Not in Labor Force\", \"employment_industry\"] = \"not employed\"\n",
    "\n",
    "## if a person is not in the labor force, change their \"employment_occupation\" to \"not_employed\"\n",
    "train.loc[train[\"employment_status\"] == \"Not in Labor Force\", \"employment_occupation\"] = \"not employed\""
   ]
  },
  {
   "cell_type": "markdown",
   "metadata": {},
   "source": [
    "**2. `health_insurance` Column**\n",
    "\n",
    "- Missing values in the \"health_insurance\" column are filled with 0, assuming that those with missing values likely do not have health insurance coverage, possibly due to financial constraints associated with a higher poverty index."
   ]
  },
  {
   "cell_type": "code",
   "execution_count": 21,
   "metadata": {},
   "outputs": [],
   "source": [
    "#Filling the missing values in health insurance with 0 assumptions is that there is correlation between the poverty index, employemnt status and health cover\n",
    "\n",
    "train[\"health_insurance\"].fillna(0, inplace=True)"
   ]
  },
  {
   "cell_type": "code",
   "execution_count": 22,
   "metadata": {},
   "outputs": [
    {
     "name": "stdout",
     "output_type": "stream",
     "text": [
      "Missing values:\n",
      "income_poverty                 16.561201\n",
      "doctor_recc_seasonal            8.087767\n",
      "rent_or_own                     7.645936\n",
      "employment_occupation           6.687385\n",
      "employment_industry             6.163178\n",
      "employment_status               5.477965\n",
      "marital_status                  5.272026\n",
      "education                       5.268282\n",
      "chronic_med_condition           3.635751\n",
      "child_under_6_months            3.070356\n",
      "health_worker                   3.010447\n",
      "opinion_seas_sick_from_vacc     2.010709\n",
      "opinion_seas_risk               1.924589\n",
      "opinion_seas_vacc_effective     1.729884\n",
      "household_children              0.932340\n",
      "household_adults                0.932340\n",
      "behavioral_avoidance            0.778822\n",
      "behavioral_touch_face           0.479275\n",
      "behavioral_large_gatherings     0.325757\n",
      "behavioral_outside_home         0.307036\n",
      "behavioral_antiviral_meds       0.265848\n",
      "behavioral_wash_hands           0.157262\n",
      "behavioral_face_mask            0.071142\n",
      "age_group                       0.000000\n",
      "race                            0.000000\n",
      "census_msa                      0.000000\n",
      "hhs_geo_region                  0.000000\n",
      "health_insurance                0.000000\n",
      "sex                             0.000000\n",
      "respondent_id                   0.000000\n",
      "dtype: float64\n"
     ]
    }
   ],
   "source": [
    "# confimr missing values again \n",
    "missing=(train.isnull().sum()/len(train))*100\n",
    "\n",
    "missing = missing.sort_values(ascending=False)\n",
    "\n",
    "print(\"Missing values:\")\n",
    "print(missing)"
   ]
  },
  {
   "cell_type": "markdown",
   "metadata": {},
   "source": []
  }
 ],
 "metadata": {
  "colab": {
   "provenance": []
  },
  "kernelspec": {
   "display_name": "learn-env",
   "language": "python",
   "name": "python3"
  },
  "language_info": {
   "codemirror_mode": {
    "name": "ipython",
    "version": 3
   },
   "file_extension": ".py",
   "mimetype": "text/x-python",
   "name": "python",
   "nbconvert_exporter": "python",
   "pygments_lexer": "ipython3",
   "version": "3.8.5"
  }
 },
 "nbformat": 4,
 "nbformat_minor": 0
}
